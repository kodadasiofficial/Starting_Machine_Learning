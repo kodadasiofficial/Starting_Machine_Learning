{
 "cells": [
  {
   "cell_type": "code",
   "execution_count": 76,
   "metadata": {},
   "outputs": [],
   "source": [
    "import numpy as np\n",
    "sureler = np.array([17, 160, 234, 149, 145, 107, 197, 75, 201, 225, 211, 119,\n",
    "           157, 145, 127, 244, 163, 114, 145,  65, 112, 185, 202, 146,203, \n",
    "           224, 203, 114, 188, 156, 187, 154, 177, 95, 165, 50, 110, 216, 138, \n",
    "           151, 166, 135, 155, 84, 251, 173, 131, 207, 121, 120])"
   ]
  },
  {
   "cell_type": "code",
   "execution_count": 77,
   "metadata": {},
   "outputs": [
    {
     "data": {
      "text/plain": [
       "array([ 17, 160, 234, 149, 145, 107, 197,  75, 201, 225, 211, 119, 157,\n",
       "       145, 127, 244, 163, 114, 145,  65, 112, 185, 202, 146, 203, 224,\n",
       "       203, 114, 188, 156, 187, 154, 177,  95, 165,  50, 110, 216, 138,\n",
       "       151, 166, 135, 155,  84, 251, 173, 131, 207, 121, 120])"
      ]
     },
     "execution_count": 77,
     "metadata": {},
     "output_type": "execute_result"
    }
   ],
   "source": [
    "sureler"
   ]
  },
  {
   "cell_type": "code",
   "execution_count": 78,
   "metadata": {},
   "outputs": [],
   "source": [
    "import scipy.stats as stats"
   ]
  },
  {
   "cell_type": "code",
   "execution_count": 79,
   "metadata": {},
   "outputs": [
    {
     "data": {
      "text/plain": [
       "DescribeResult(nobs=50, minmax=(17, 251), mean=154.38, variance=2578.0363265306123, skewness=-0.32398897278694483, kurtosis=-0.05849823498415985)"
      ]
     },
     "execution_count": 79,
     "metadata": {},
     "output_type": "execute_result"
    }
   ],
   "source": [
    "stats.describe(sureler)\n",
    "#direk np.arraylerde describe işlemi yapmamızı sağlar"
   ]
  },
  {
   "cell_type": "code",
   "execution_count": 80,
   "metadata": {},
   "outputs": [
    {
     "data": {
      "image/png": "[encoded data removed]",
      "text/plain": [
       "<Figure size 432x288 with 1 Axes>"
      ]
     },
     "metadata": {
      "needs_background": "light"
     },
     "output_type": "display_data"
    }
   ],
   "source": [
    "#varsayımlar\n",
    "#normallik varsayımı\n",
    "#histogram\n",
    "import pandas as pd\n",
    "pd.DataFrame(sureler).plot.hist();\n",
    "#asıl olarak bu görsel yöntemlerle değil testlerle yapmaktır.Çünkü bu insan yanılgılarından kurtarır.\n"
   ]
  },
  {
   "cell_type": "code",
   "execution_count": 81,
   "metadata": {},
   "outputs": [
    {
     "data": {
      "image/png": "[encoded data removed]",
      "text/plain": [
       "<Figure size 432x288 with 1 Axes>"
      ]
     },
     "metadata": {
      "needs_background": "light"
     },
     "output_type": "display_data"
    }
   ],
   "source": [
    "#qqplot\n",
    "import pylab\n",
    "stats.probplot(sureler,dist = \"norm\", plot=pylab)\n",
    "pylab.show()"
   ]
  },
  {
   "cell_type": "code",
   "execution_count": 82,
   "metadata": {},
   "outputs": [],
   "source": [
    "#Shapiro-Wilks Testi(önemli olan normallik testi)\n",
    "#H0: Örnek dağılım ile teorik dağılım arasında istatistiksel olarak anlamlı bir fark yoktur.\n",
    "from scipy.stats import shapiro"
   ]
  },
  {
   "cell_type": "code",
   "execution_count": 83,
   "metadata": {},
   "outputs": [
    {
     "data": {
      "text/plain": [
       "(0.9853105545043945, 0.7848747968673706)"
      ]
     },
     "execution_count": 83,
     "metadata": {},
     "output_type": "execute_result"
    }
   ],
   "source": [
    "shapiro(sureler)\n",
    "#OUTPUT da soldaki değer test istatistiği sağdaki değer p-value değeri\n",
    "#Tek örneklem T testini gerçekleştirebilmek için dağılımın normal olması gerekir."
   ]
  },
  {
   "cell_type": "code",
   "execution_count": 86,
   "metadata": {},
   "outputs": [
    {
     "data": {
      "text/plain": [
       "Ttest_1sampResult(statistic=-2.1753117985877966, pvalue=0.034460415195071446)"
      ]
     },
     "execution_count": 86,
     "metadata": {},
     "output_type": "execute_result"
    }
   ],
   "source": [
    "#Hipotez Testinin Uygulanması\n",
    "stats.ttest_1samp(sureler, popmean = 170)"
   ]
  },
  {
   "cell_type": "markdown",
   "metadata": {},
   "source": [
    "p-value 0.05(kabul edilebilir hata değeri) küçük olduğu için H0 hipotezi reddedilir.Yani websitesinde geçirilen ortalama süre 170'den azdır.170 için alınan örneklem yanlış bu örneklem doğrudur. "
   ]
  }
 ],
 "metadata": {
  "kernelspec": {
   "display_name": "Python 3 (ipykernel)",
   "language": "python",
   "name": "python3"
  },
  "language_info": {
   "codemirror_mode": {
    "name": "ipython",
    "version": 3
   },
   "file_extension": ".py",
   "mimetype": "text/x-python",
   "name": "python",
   "nbconvert_exporter": "python",
   "pygments_lexer": "ipython3",
   "version": "3.9.12"
  }
 },
 "nbformat": 4,
 "nbformat_minor": 4
}
