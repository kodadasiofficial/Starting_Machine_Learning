{
 "cells": [
  {
   "cell_type": "code",
   "execution_count": 2,
   "metadata": {
    "collapsed": true
   },
   "outputs": [
    {
     "name": "stdout",
     "output_type": "stream",
     "text": [
      "Collecting pandas_datareader\n",
      "  Downloading https://files.pythonhosted.org/packages/22/f1/a02eea03628865c3d4c29849cda8c8a73f43358048aee47d79dfbfa6c6c3/pandas_datareader-0.9.0-py3-none-any.whl (107kB)\n",
      "Requirement already satisfied: pandas>=0.23 in c:\\users\\isaad\\appdata\\local\\continuum\\anaconda3\\lib\\site-packages (from pandas_datareader) (0.24.2)\n",
      "Requirement already satisfied: lxml in c:\\users\\isaad\\appdata\\local\\continuum\\anaconda3\\lib\\site-packages (from pandas_datareader) (4.3.4)\n",
      "Requirement already satisfied: requests>=2.19.0 in c:\\users\\isaad\\appdata\\local\\continuum\\anaconda3\\lib\\site-packages (from pandas_datareader) (2.22.0)\n",
      "Requirement already satisfied: numpy>=1.12.0 in c:\\users\\isaad\\appdata\\local\\continuum\\anaconda3\\lib\\site-packages (from pandas>=0.23->pandas_datareader) (1.16.4)\n",
      "Requirement already satisfied: python-dateutil>=2.5.0 in c:\\users\\isaad\\appdata\\local\\continuum\\anaconda3\\lib\\site-packages (from pandas>=0.23->pandas_datareader) (2.8.0)\n",
      "Requirement already satisfied: pytz>=2011k in c:\\users\\isaad\\appdata\\local\\continuum\\anaconda3\\lib\\site-packages (from pandas>=0.23->pandas_datareader) (2019.1)\n",
      "Requirement already satisfied: certifi>=2017.4.17 in c:\\users\\isaad\\appdata\\local\\continuum\\anaconda3\\lib\\site-packages (from requests>=2.19.0->pandas_datareader) (2020.4.5.1)\n",
      "Requirement already satisfied: idna<2.9,>=2.5 in c:\\users\\isaad\\appdata\\local\\continuum\\anaconda3\\lib\\site-packages (from requests>=2.19.0->pandas_datareader) (2.8)\n",
      "Requirement already satisfied: urllib3!=1.25.0,!=1.25.1,<1.26,>=1.21.1 in c:\\users\\isaad\\appdata\\local\\continuum\\anaconda3\\lib\\site-packages (from requests>=2.19.0->pandas_datareader) (1.24.2)\n",
      "Requirement already satisfied: chardet<3.1.0,>=3.0.2 in c:\\users\\isaad\\appdata\\local\\continuum\\anaconda3\\lib\\site-packages (from requests>=2.19.0->pandas_datareader) (3.0.4)\n",
      "Requirement already satisfied: six>=1.5 in c:\\users\\isaad\\appdata\\local\\continuum\\anaconda3\\lib\\site-packages (from python-dateutil>=2.5.0->pandas>=0.23->pandas_datareader) (1.12.0)\n",
      "Installing collected packages: pandas-datareader\n",
      "Successfully installed pandas-datareader-0.9.0\n"
     ]
    }
   ],
   "source": [
    "!pip install pandas_datareader"
   ]
  },
  {
   "cell_type": "code",
   "execution_count": 12,
   "metadata": {},
   "outputs": [],
   "source": [
    "import pandas_datareader as pr\n",
    "import pandas as pd"
   ]
  },
  {
   "cell_type": "code",
   "execution_count": 13,
   "metadata": {
    "scrolled": true
   },
   "outputs": [
    {
     "data": {
      "text/html": [
       "<div>\n",
       "<style scoped>\n",
       "    .dataframe tbody tr th:only-of-type {\n",
       "        vertical-align: middle;\n",
       "    }\n",
       "\n",
       "    .dataframe tbody tr th {\n",
       "        vertical-align: top;\n",
       "    }\n",
       "\n",
       "    .dataframe thead th {\n",
       "        text-align: right;\n",
       "    }\n",
       "</style>\n",
       "<table border=\"1\" class=\"dataframe\">\n",
       "  <thead>\n",
       "    <tr style=\"text-align: right;\">\n",
       "      <th></th>\n",
       "      <th>High</th>\n",
       "      <th>Low</th>\n",
       "      <th>Open</th>\n",
       "      <th>Close</th>\n",
       "      <th>Volume</th>\n",
       "      <th>Adj Close</th>\n",
       "    </tr>\n",
       "    <tr>\n",
       "      <th>Date</th>\n",
       "      <th></th>\n",
       "      <th></th>\n",
       "      <th></th>\n",
       "      <th></th>\n",
       "      <th></th>\n",
       "      <th></th>\n",
       "    </tr>\n",
       "  </thead>\n",
       "  <tbody>\n",
       "    <tr>\n",
       "      <th>2016-01-04</th>\n",
       "      <td>105.370003</td>\n",
       "      <td>102.000000</td>\n",
       "      <td>102.610001</td>\n",
       "      <td>105.349998</td>\n",
       "      <td>67649400.0</td>\n",
       "      <td>97.948441</td>\n",
       "    </tr>\n",
       "    <tr>\n",
       "      <th>2016-01-05</th>\n",
       "      <td>105.849998</td>\n",
       "      <td>102.410004</td>\n",
       "      <td>105.750000</td>\n",
       "      <td>102.709999</td>\n",
       "      <td>55791000.0</td>\n",
       "      <td>95.493919</td>\n",
       "    </tr>\n",
       "    <tr>\n",
       "      <th>2016-01-06</th>\n",
       "      <td>102.370003</td>\n",
       "      <td>99.870003</td>\n",
       "      <td>100.559998</td>\n",
       "      <td>100.699997</td>\n",
       "      <td>68457400.0</td>\n",
       "      <td>93.625145</td>\n",
       "    </tr>\n",
       "    <tr>\n",
       "      <th>2016-01-07</th>\n",
       "      <td>100.129997</td>\n",
       "      <td>96.430000</td>\n",
       "      <td>98.680000</td>\n",
       "      <td>96.449997</td>\n",
       "      <td>81094400.0</td>\n",
       "      <td>89.673714</td>\n",
       "    </tr>\n",
       "    <tr>\n",
       "      <th>2016-01-08</th>\n",
       "      <td>99.110001</td>\n",
       "      <td>96.760002</td>\n",
       "      <td>98.550003</td>\n",
       "      <td>96.959999</td>\n",
       "      <td>70798000.0</td>\n",
       "      <td>90.147873</td>\n",
       "    </tr>\n",
       "  </tbody>\n",
       "</table>\n",
       "</div>"
      ],
      "text/plain": [
       "                  High         Low        Open       Close      Volume  \\\n",
       "Date                                                                     \n",
       "2016-01-04  105.370003  102.000000  102.610001  105.349998  67649400.0   \n",
       "2016-01-05  105.849998  102.410004  105.750000  102.709999  55791000.0   \n",
       "2016-01-06  102.370003   99.870003  100.559998  100.699997  68457400.0   \n",
       "2016-01-07  100.129997   96.430000   98.680000   96.449997  81094400.0   \n",
       "2016-01-08   99.110001   96.760002   98.550003   96.959999  70798000.0   \n",
       "\n",
       "            Adj Close  \n",
       "Date                   \n",
       "2016-01-04  97.948441  \n",
       "2016-01-05  95.493919  \n",
       "2016-01-06  93.625145  \n",
       "2016-01-07  89.673714  \n",
       "2016-01-08  90.147873  "
      ]
     },
     "execution_count": 13,
     "metadata": {},
     "output_type": "execute_result"
    }
   ],
   "source": [
    "df = pr.get_data_yahoo(\"AAPL\",start = \"2016-01-01\",end = \"2020-01-01\")\n",
    "#APPLE hisse senedini alıyoruz\n",
    "df.head()"
   ]
  },
  {
   "cell_type": "code",
   "execution_count": 14,
   "metadata": {},
   "outputs": [
    {
     "data": {
      "text/plain": [
       "(1006, 6)"
      ]
     },
     "execution_count": 14,
     "metadata": {},
     "output_type": "execute_result"
    }
   ],
   "source": [
    "df.shape"
   ]
  },
  {
   "cell_type": "code",
   "execution_count": 15,
   "metadata": {},
   "outputs": [
    {
     "data": {
      "text/plain": [
       "Date\n",
       "2016-01-04    105.349998\n",
       "2016-01-05    102.709999\n",
       "2016-01-06    100.699997\n",
       "2016-01-07     96.449997\n",
       "2016-01-08     96.959999\n",
       "2016-01-11     98.529999\n",
       "2016-01-12     99.959999\n",
       "2016-01-13     97.389999\n",
       "2016-01-14     99.519997\n",
       "2016-01-15     97.129997\n",
       "2016-01-19     96.660004\n",
       "2016-01-20     96.790001\n",
       "2016-01-21     96.300003\n",
       "2016-01-22    101.419998\n",
       "2016-01-25     99.440002\n",
       "2016-01-26     99.989998\n",
       "2016-01-27     93.419998\n",
       "2016-01-28     94.089996\n",
       "2016-01-29     97.339996\n",
       "2016-02-01     96.430000\n",
       "2016-02-02     94.480003\n",
       "2016-02-03     96.349998\n",
       "2016-02-04     96.599998\n",
       "2016-02-05     94.019997\n",
       "2016-02-08     95.010002\n",
       "2016-02-09     94.989998\n",
       "2016-02-10     94.269997\n",
       "2016-02-11     93.699997\n",
       "2016-02-12     93.989998\n",
       "2016-02-16     96.639999\n",
       "                 ...    \n",
       "2019-11-18    267.100006\n",
       "2019-11-19    266.290009\n",
       "2019-11-20    263.190002\n",
       "2019-11-21    262.010010\n",
       "2019-11-22    261.779999\n",
       "2019-11-25    266.369995\n",
       "2019-11-26    264.290009\n",
       "2019-11-27    267.839996\n",
       "2019-11-29    267.250000\n",
       "2019-12-02    264.160004\n",
       "2019-12-03    259.450012\n",
       "2019-12-04    261.739990\n",
       "2019-12-05    265.579987\n",
       "2019-12-06    270.709991\n",
       "2019-12-09    266.920013\n",
       "2019-12-10    268.480011\n",
       "2019-12-11    270.769989\n",
       "2019-12-12    271.459991\n",
       "2019-12-13    275.149994\n",
       "2019-12-16    279.859985\n",
       "2019-12-17    280.410004\n",
       "2019-12-18    279.739990\n",
       "2019-12-19    280.019989\n",
       "2019-12-20    279.440002\n",
       "2019-12-23    284.000000\n",
       "2019-12-24    284.269989\n",
       "2019-12-26    289.910004\n",
       "2019-12-27    289.799988\n",
       "2019-12-30    291.519989\n",
       "2019-12-31    293.649994\n",
       "Name: Close, Length: 1006, dtype: float64"
      ]
     },
     "execution_count": 15,
     "metadata": {},
     "output_type": "execute_result"
    }
   ],
   "source": [
    "kapanıs = df[\"Close\"]\n",
    "kapanıs"
   ]
  },
  {
   "cell_type": "code",
   "execution_count": 16,
   "metadata": {},
   "outputs": [
    {
     "data": {
      "image/png": "[encoded data removed]",
      "text/plain": [
       "<Figure size 432x288 with 1 Axes>"
      ]
     },
     "metadata": {
      "needs_background": "light"
     },
     "output_type": "display_data"
    }
   ],
   "source": [
    "kapanıs.plot();"
   ]
  },
  {
   "cell_type": "code",
   "execution_count": 17,
   "metadata": {},
   "outputs": [
    {
     "data": {
      "text/plain": [
       "DatetimeIndex(['2016-01-04', '2016-01-05', '2016-01-06', '2016-01-07',\n",
       "               '2016-01-08', '2016-01-11', '2016-01-12', '2016-01-13',\n",
       "               '2016-01-14', '2016-01-15',\n",
       "               ...\n",
       "               '2019-12-17', '2019-12-18', '2019-12-19', '2019-12-20',\n",
       "               '2019-12-23', '2019-12-24', '2019-12-26', '2019-12-27',\n",
       "               '2019-12-30', '2019-12-31'],\n",
       "              dtype='datetime64[ns]', name='Date', length=1006, freq=None)"
      ]
     },
     "execution_count": 17,
     "metadata": {},
     "output_type": "execute_result"
    }
   ],
   "source": [
    "kapanıs.index"
   ]
  },
  {
   "cell_type": "code",
   "execution_count": 18,
   "metadata": {},
   "outputs": [],
   "source": [
    "df[\"Close\"].index = pd.DatetimeIndex(df[\"Close\"].index)"
   ]
  },
  {
   "cell_type": "code",
   "execution_count": 20,
   "metadata": {},
   "outputs": [
    {
     "data": {
      "text/plain": [
       "DatetimeIndex(['2016-01-04', '2016-01-05', '2016-01-06', '2016-01-07',\n",
       "               '2016-01-08', '2016-01-11', '2016-01-12', '2016-01-13',\n",
       "               '2016-01-14', '2016-01-15',\n",
       "               ...\n",
       "               '2019-12-17', '2019-12-18', '2019-12-19', '2019-12-20',\n",
       "               '2019-12-23', '2019-12-24', '2019-12-26', '2019-12-27',\n",
       "               '2019-12-30', '2019-12-31'],\n",
       "              dtype='datetime64[ns]', name='Date', length=1006, freq=None)"
      ]
     },
     "execution_count": 20,
     "metadata": {},
     "output_type": "execute_result"
    }
   ],
   "source": [
    "df[\"Close\"].index"
   ]
  },
  {
   "cell_type": "code",
   "execution_count": 22,
   "metadata": {},
   "outputs": [
    {
     "data": {
      "image/png": "[encoded data removed]",
      "text/plain": [
       "<Figure size 432x288 with 1 Axes>"
      ]
     },
     "metadata": {
      "needs_background": "light"
     },
     "output_type": "display_data"
    }
   ],
   "source": [
    "df[\"Close\"].plot();"
   ]
  },
  {
   "cell_type": "code",
   "execution_count": null,
   "metadata": {},
   "outputs": [],
   "source": []
  }
 ],
 "metadata": {
  "kernelspec": {
   "display_name": "Python 3",
   "language": "python",
   "name": "python3"
  },
  "language_info": {
   "codemirror_mode": {
    "name": "ipython",
    "version": 3
   },
   "file_extension": ".py",
   "mimetype": "text/x-python",
   "name": "python",
   "nbconvert_exporter": "python",
   "pygments_lexer": "ipython3",
   "version": "3.7.3"
  }
 },
 "nbformat": 4,
 "nbformat_minor": 2
}
