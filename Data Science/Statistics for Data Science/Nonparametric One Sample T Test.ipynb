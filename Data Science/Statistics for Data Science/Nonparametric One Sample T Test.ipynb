{
 "cells": [
  {
   "cell_type": "code",
   "execution_count": 1,
   "metadata": {},
   "outputs": [],
   "source": [
    "from statsmodels.stats.descriptivestats import sign_test"
   ]
  },
  {
   "cell_type": "code",
   "execution_count": 6,
   "metadata": {},
   "outputs": [],
   "source": [
    "from scipy.stats import shapiro\n",
    "import numpy as np"
   ]
  },
  {
   "cell_type": "code",
   "execution_count": 10,
   "metadata": {},
   "outputs": [
    {
     "data": {
      "text/plain": [
       "array([275, 135,  25, 133, 166, 231,  18,  83, 266,  50,  26, 249,  64,\n",
       "       132,  72,  43, 210, 187, 189,  64,  87,  23, 253, 151, 296, 168,\n",
       "        99, 150,  41, 293,  28, 103,  87, 104, 258, 166,  84, 226,  25,\n",
       "        28, 128,  81, 155, 145, 213, 294, 299, 260,  54, 143])"
      ]
     },
     "execution_count": 10,
     "metadata": {},
     "output_type": "execute_result"
    }
   ],
   "source": [
    "sureler = np.random.randint(10,300,50)\n",
    "np.random.seed(10)\n",
    "sureler"
   ]
  },
  {
   "cell_type": "code",
   "execution_count": 8,
   "metadata": {},
   "outputs": [
    {
     "data": {
      "text/plain": [
       "(0.9418820738792419, 0.016002701595425606)"
      ]
     },
     "execution_count": 8,
     "metadata": {},
     "output_type": "execute_result"
    }
   ],
   "source": [
    "shapiro(sureler)"
   ]
  },
  {
   "cell_type": "code",
   "execution_count": 9,
   "metadata": {},
   "outputs": [
    {
     "data": {
      "text/plain": [
       "(-4.0, 0.3222363203575471)"
      ]
     },
     "execution_count": 9,
     "metadata": {},
     "output_type": "execute_result"
    }
   ],
   "source": [
    "#surelerin dağılımı normal olmadığı için nonparametrik test kullanmalıyız\n",
    "sign_test(sureler,170)"
   ]
  },
  {
   "cell_type": "code",
   "execution_count": null,
   "metadata": {},
   "outputs": [],
   "source": [
    "#p-value 0.05'ten büyük olduğu için \n",
    "#%95 doğrulukla surelerin ortalmasının 170 olduğunu gördük.H0'I reddedemeyiz."
   ]
  }
 ],
 "metadata": {
  "kernelspec": {
   "display_name": "Python 3 (ipykernel)",
   "language": "python",
   "name": "python3"
  },
  "language_info": {
   "codemirror_mode": {
    "name": "ipython",
    "version": 3
   },
   "file_extension": ".py",
   "mimetype": "text/x-python",
   "name": "python",
   "nbconvert_exporter": "python",
   "pygments_lexer": "ipython3",
   "version": "3.9.12"
  }
 },
 "nbformat": 4,
 "nbformat_minor": 4
}
