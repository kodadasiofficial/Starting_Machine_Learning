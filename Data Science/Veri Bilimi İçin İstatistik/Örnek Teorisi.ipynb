{
 "cells": [
  {
   "cell_type": "code",
   "execution_count": 1,
   "metadata": {},
   "outputs": [],
   "source": [
    "import numpy as np\n",
    "populasyon = np.random.randint(0,80,10000)"
   ]
  },
  {
   "cell_type": "code",
   "execution_count": 2,
   "metadata": {},
   "outputs": [
    {
     "data": {
      "text/plain": [
       "array([51, 36, 54, 59, 77, 47, 14, 69,  0, 57])"
      ]
     },
     "execution_count": 2,
     "metadata": {},
     "output_type": "execute_result"
    }
   ],
   "source": [
    "populasyon[0:10]"
   ]
  },
  {
   "cell_type": "code",
   "execution_count": 3,
   "metadata": {},
   "outputs": [
    {
     "data": {
      "text/plain": [
       "array([78, 26, 19, 66, 67, 15, 34, 48, 48,  5])"
      ]
     },
     "execution_count": 3,
     "metadata": {},
     "output_type": "execute_result"
    }
   ],
   "source": [
    "#örneklem çekme\n",
    "np.random.seed(10)#aynı örneklemler üzerinde çalışmak için\n",
    "örneklem = np.random.choice(a = populasyon,size = 100)\n",
    "örneklem[0:10]"
   ]
  },
  {
   "cell_type": "code",
   "execution_count": 4,
   "metadata": {},
   "outputs": [
    {
     "data": {
      "text/plain": [
       "(100,)"
      ]
     },
     "execution_count": 4,
     "metadata": {},
     "output_type": "execute_result"
    }
   ],
   "source": [
    "örneklem.shape"
   ]
  },
  {
   "cell_type": "code",
   "execution_count": 5,
   "metadata": {},
   "outputs": [
    {
     "data": {
      "text/plain": [
       "40.03"
      ]
     },
     "execution_count": 5,
     "metadata": {},
     "output_type": "execute_result"
    }
   ],
   "source": [
    "örneklem.mean()"
   ]
  },
  {
   "cell_type": "code",
   "execution_count": 6,
   "metadata": {},
   "outputs": [
    {
     "data": {
      "text/plain": [
       "39.7098"
      ]
     },
     "execution_count": 6,
     "metadata": {},
     "output_type": "execute_result"
    }
   ],
   "source": [
    "populasyon.mean()"
   ]
  },
  {
   "cell_type": "code",
   "execution_count": 7,
   "metadata": {},
   "outputs": [],
   "source": [
    "#örneklem dağılımı\n",
    "np.random.seed(10)\n",
    "örneklem1 = np.random.choice(a = populasyon,size = 100)\n",
    "örneklem2 = np.random.choice(a = populasyon,size = 100)\n",
    "örneklem3 = np.random.choice(a = populasyon,size = 100)\n",
    "örneklem4 = np.random.choice(a = populasyon,size = 100)\n",
    "örneklem5 = np.random.choice(a = populasyon,size = 100)\n",
    "örneklem6 = np.random.choice(a = populasyon,size = 100)\n",
    "örneklem7 = np.random.choice(a = populasyon,size = 100)\n",
    "örneklem8 = np.random.choice(a = populasyon,size = 100)\n",
    "örneklem9 = np.random.choice(a = populasyon,size = 100)\n",
    "örneklem10 = np.random.choice(a = populasyon,size = 100)"
   ]
  },
  {
   "cell_type": "code",
   "execution_count": 9,
   "metadata": {},
   "outputs": [
    {
     "data": {
      "text/plain": [
       "40.102"
      ]
     },
     "execution_count": 9,
     "metadata": {},
     "output_type": "execute_result"
    }
   ],
   "source": [
    "(örneklem1.mean()+örneklem2.mean()+örneklem3.mean()+örneklem4.mean()\n",
    "+örneklem5.mean()+örneklem6.mean()+örneklem7.mean()+örneklem8.mean()\n",
    " +örneklem9.mean()+örneklem10.mean())/10"
   ]
  },
  {
   "cell_type": "code",
   "execution_count": null,
   "metadata": {},
   "outputs": [],
   "source": []
  }
 ],
 "metadata": {
  "kernelspec": {
   "display_name": "Python 3 (ipykernel)",
   "language": "python",
   "name": "python3"
  },
  "language_info": {
   "codemirror_mode": {
    "name": "ipython",
    "version": 3
   },
   "file_extension": ".py",
   "mimetype": "text/x-python",
   "name": "python",
   "nbconvert_exporter": "python",
   "pygments_lexer": "ipython3",
   "version": "3.9.12"
  }
 },
 "nbformat": 4,
 "nbformat_minor": 4
}
